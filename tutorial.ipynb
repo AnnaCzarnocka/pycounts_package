{
 "cells": [
  {
   "cell_type": "code",
   "execution_count": 1,
   "metadata": {},
   "outputs": [],
   "source": [
    "from pycounts.pycounts import count_words"
   ]
  },
  {
   "cell_type": "code",
   "execution_count": 2,
   "metadata": {},
   "outputs": [
    {
     "data": {
      "text/plain": [
       "Counter({'is': 10,\n",
       "         'better': 8,\n",
       "         'than': 8,\n",
       "         'the': 6,\n",
       "         'to': 5,\n",
       "         'of': 3,\n",
       "         'although': 3,\n",
       "         'never': 3,\n",
       "         'be': 3,\n",
       "         'one': 3,\n",
       "         'idea': 3,\n",
       "         'complex': 2,\n",
       "         'special': 2,\n",
       "         'should': 2,\n",
       "         'unless': 2,\n",
       "         'obvious': 2,\n",
       "         'way': 2,\n",
       "         'do': 2,\n",
       "         'it': 2,\n",
       "         'may': 2,\n",
       "         'now': 2,\n",
       "         'if': 2,\n",
       "         'implementation': 2,\n",
       "         'explain': 2,\n",
       "         'a': 2,\n",
       "         'zen': 1,\n",
       "         'python': 1,\n",
       "         'by': 1,\n",
       "         'tim': 1,\n",
       "         'peters': 1,\n",
       "         'beautiful': 1,\n",
       "         'ugly': 1,\n",
       "         'explicit': 1,\n",
       "         'implicit': 1,\n",
       "         'simple': 1,\n",
       "         'complicated': 1,\n",
       "         'flat': 1,\n",
       "         'nested': 1,\n",
       "         'sparse': 1,\n",
       "         'dense': 1,\n",
       "         'readability': 1,\n",
       "         'counts': 1,\n",
       "         'cases': 1,\n",
       "         'arent': 1,\n",
       "         'enough': 1,\n",
       "         'break': 1,\n",
       "         'rules': 1,\n",
       "         'practicality': 1,\n",
       "         'beats': 1,\n",
       "         'purity': 1,\n",
       "         'errors': 1,\n",
       "         'pass': 1,\n",
       "         'silently': 1,\n",
       "         'explicitly': 1,\n",
       "         'silenced': 1,\n",
       "         'in': 1,\n",
       "         'face': 1,\n",
       "         'ambiguity': 1,\n",
       "         'refuse': 1,\n",
       "         'temptation': 1,\n",
       "         'guess': 1,\n",
       "         'there': 1,\n",
       "         'and': 1,\n",
       "         'preferably': 1,\n",
       "         'only': 1,\n",
       "         'that': 1,\n",
       "         'not': 1,\n",
       "         'at': 1,\n",
       "         'first': 1,\n",
       "         'youre': 1,\n",
       "         'dutch': 1,\n",
       "         'often': 1,\n",
       "         'right': 1,\n",
       "         'hard': 1,\n",
       "         'its': 1,\n",
       "         'bad': 1,\n",
       "         'easy': 1,\n",
       "         'good': 1,\n",
       "         'namespaces': 1,\n",
       "         'are': 1,\n",
       "         'honking': 1,\n",
       "         'great': 1,\n",
       "         'lets': 1,\n",
       "         'more': 1,\n",
       "         'those': 1})"
      ]
     },
     "execution_count": 2,
     "metadata": {},
     "output_type": "execute_result"
    }
   ],
   "source": [
    "count_words(\"zen.txt\")"
   ]
  },
  {
   "cell_type": "code",
   "execution_count": 3,
   "metadata": {},
   "outputs": [
    {
     "data": {
      "image/png": "[encoded data removed]",
      "text/plain": [
       "<Figure size 640x480 with 1 Axes>"
      ]
     },
     "metadata": {},
     "output_type": "display_data"
    }
   ],
   "source": [
    "from pycounts.pycounts import count_words\n",
    "from pycounts.plotting import plot_words\n",
    "counts = count_words(\"zen.txt\")\n",
    "fig = plot_words(counts, 10)"
   ]
  },
  {
   "cell_type": "code",
   "execution_count": 4,
   "metadata": {},
   "outputs": [],
   "source": [
    "import matplotlib.pyplot as plt\n",
    "plt.show()"
   ]
  },
  {
   "cell_type": "code",
   "execution_count": 5,
   "metadata": {},
   "outputs": [
    {
     "name": "stdout",
     "output_type": "stream",
     "text": [
      "Age verified!\n",
      "Age verified!\n"
     ]
    },
    {
     "ename": "AssertionError",
     "evalue": "Person is younger than 18!",
     "output_type": "error",
     "traceback": [
      "\u001b[0;31m---------------------------------------------------------------------------\u001b[0m",
      "\u001b[0;31mAssertionError\u001b[0m                            Traceback (most recent call last)",
      "Cell \u001b[0;32mIn[5], line 3\u001b[0m\n\u001b[1;32m      1\u001b[0m ages \u001b[38;5;241m=\u001b[39m [\u001b[38;5;241m32\u001b[39m, \u001b[38;5;241m19\u001b[39m, \u001b[38;5;241m9\u001b[39m, \u001b[38;5;241m75\u001b[39m]\n\u001b[1;32m      2\u001b[0m \u001b[38;5;28;01mfor\u001b[39;00m age \u001b[38;5;129;01min\u001b[39;00m ages:\n\u001b[0;32m----> 3\u001b[0m     \u001b[38;5;28;01massert\u001b[39;00m age \u001b[38;5;241m>\u001b[39m\u001b[38;5;241m=\u001b[39m \u001b[38;5;241m18\u001b[39m, \u001b[38;5;124m\"\u001b[39m\u001b[38;5;124mPerson is younger than 18!\u001b[39m\u001b[38;5;124m\"\u001b[39m\n\u001b[1;32m      4\u001b[0m     \u001b[38;5;28mprint\u001b[39m(\u001b[38;5;124m\"\u001b[39m\u001b[38;5;124mAge verified!\u001b[39m\u001b[38;5;124m\"\u001b[39m)\n",
      "\u001b[0;31mAssertionError\u001b[0m: Person is younger than 18!"
     ]
    }
   ],
   "source": [
    "ages = [32, 19, 9, 75]\n",
    "for age in ages:\n",
    "    assert age >= 18, \"Person is younger than 18!\"\n",
    "    print(\"Age verified!\")"
   ]
  },
  {
   "cell_type": "code",
   "execution_count": 6,
   "metadata": {},
   "outputs": [],
   "source": [
    "quote = \"Insanity is doing the same thing over and over and \\\n",
    "             expecting different results.\"\n",
    "with open(\"tests/einstein.txt\", \"w\") as file:\n",
    "        file.write(quote)"
   ]
  },
  {
   "cell_type": "code",
   "execution_count": 10,
   "metadata": {},
   "outputs": [
    {
     "name": "stdout",
     "output_type": "stream",
     "text": [
      "Help on function count_words in module pycounts.pycounts:\n",
      "\n",
      "count_words(input_file)\n",
      "    Count unique words in a string.\n",
      "\n"
     ]
    }
   ],
   "source": [
    "from pycounts.pycounts import count_words\n",
    "help(count_words)"
   ]
  },
  {
   "cell_type": "code",
   "execution_count": 1,
   "metadata": {},
   "outputs": [],
   "source": [
    "import pycounts"
   ]
  },
  {
   "cell_type": "code",
   "execution_count": 2,
   "metadata": {},
   "outputs": [
    {
     "name": "stdout",
     "output_type": "stream",
     "text": [
      "0.1.0\n"
     ]
    }
   ],
   "source": [
    "print(pycounts.__version__)"
   ]
  },
  {
   "cell_type": "code",
   "execution_count": 3,
   "metadata": {},
   "outputs": [],
   "source": [
    "from pycounts.pycounts import count_words"
   ]
  },
  {
   "cell_type": "code",
   "execution_count": 4,
   "metadata": {},
   "outputs": [],
   "source": [
    "from pycounts.plotting import plot_words"
   ]
  },
  {
   "cell_type": "code",
   "execution_count": 6,
   "metadata": {},
   "outputs": [],
   "source": [
    "quote = \"\"\"Insanity is doing the same thing over and over and expecting different results.\"\"\"\n",
    "with open (\"einstein.txt\", \"w\") as file:\n",
    "    file.write(quote)"
   ]
  },
  {
   "cell_type": "code",
   "execution_count": 7,
   "metadata": {},
   "outputs": [
    {
     "name": "stdout",
     "output_type": "stream",
     "text": [
      "Counter({'over': 2, 'and': 2, 'insanity': 1, 'is': 1, 'doing': 1, 'the': 1, 'same': 1, 'thing': 1, 'expecting': 1, 'different': 1, 'results': 1})\n"
     ]
    }
   ],
   "source": [
    "counts = count_words(\"einstein.txt\")\n",
    "print(counts)"
   ]
  },
  {
   "cell_type": "code",
   "execution_count": 8,
   "metadata": {},
   "outputs": [
    {
     "data": {
      "image/png": "[encoded data removed]",
      "text/plain": [
       "<Figure size 640x480 with 1 Axes>"
      ]
     },
     "metadata": {},
     "output_type": "display_data"
    }
   ],
   "source": [
    "fig = plot_words(counts, n=5)"
   ]
  },
  {
   "cell_type": "code",
   "execution_count": null,
   "metadata": {},
   "outputs": [],
   "source": []
  }
 ],
 "metadata": {
  "kernelspec": {
   "display_name": "Python 3 (ipykernel)",
   "language": "python",
   "name": "python3"
  },
  "language_info": {
   "codemirror_mode": {
    "name": "ipython",
    "version": 3
   },
   "file_extension": ".py",
   "mimetype": "text/x-python",
   "name": "python",
   "nbconvert_exporter": "python",
   "pygments_lexer": "ipython3",
   "version": "3.9.19"
  }
 },
 "nbformat": 4,
 "nbformat_minor": 4
}
